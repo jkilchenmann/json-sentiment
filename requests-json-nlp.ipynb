{
 "cells": [
  {
   "cell_type": "markdown",
   "metadata": {},
   "source": [
    "# Web Mining and Applied NLP (44-620)\n",
    "\n",
    "## Requests, JSON, and NLP\n",
    "\n",
    "### Student Name:  Justin P. Kilchenmann\n",
    "\n",
    "[https://github.com/jkilchenmann/json-sentiment](https://github.com/jkilchenmann/json-sentiment)\n",
    "\n",
    "Perform the tasks described in the Markdown cells below.  When you have completed the assignment make sure your code cells have all been run (and have output beneath them) and ensure you have committed and pushed ALL of your changes to your assignment repository.\n",
    "\n",
    "Make sure you have [installed spaCy and its pipeline](https://spacy.io/usage#quickstart) and [spaCyTextBlob](https://spacy.io/universe/project/spacy-textblob)\n",
    "\n",
    "Every question that requires you to write code will have a code cell underneath it; you may either write your entire solution in that cell or write it in a python file (`.py`), then import and run the appropriate code to answer the question.\n",
    "\n",
    "This assignment requires that you write additional files (either JSON or pickle files); make sure to submit those files in your repository as well."
   ]
  },
  {
   "cell_type": "markdown",
   "metadata": {},
   "source": [
    "### Question 1"
   ]
  },
  {
   "cell_type": "markdown",
   "metadata": {},
   "source": [
    "1. The following code accesses the [lyrics.ovh](https://lyricsovh.docs.apiary.io/#reference/0/lyrics-of-a-song/search) public api, searches for the lyrics of a song, and stores it in a dictionary object.  Write the resulting json to a file (either a JSON file or a pickle file; you choose). You will read in the contents of this file for future questions so we do not need to frequently access the API."
   ]
  },
  {
   "cell_type": "code",
   "execution_count": 3,
   "metadata": {},
   "outputs": [
    {
     "name": "stdout",
     "output_type": "stream",
     "text": [
      "[{'title': 'Everything I Wanted', 'lyrics': 'I had a dream\\nI got everything I wanted\\nNot what you\\'d think\\nAnd if I\\'m bein\\' honest\\nIt\\u2005might\\'ve\\u2005been a nightmare\\nTo\\u2005anyone who might care\\nThought I could\\u2005fly\\nSo I stepped off the Golden, mm\\nNobody cried\\nNobody even noticed\\nI saw them standing right there\\nKinda thought they might care\\n\\nI had a dream\\nI got everything I wanted\\nBut when I wake up, I see\\nYou with me\\n\\nAnd you say, \"As long as I\\'m here, no one can hurt you\\nDon\\'t wanna lie here, but you can learn to\\nIf I could change the way that you see yourself\\nYou wouldn\\'t wonder why you hear\\n\\'They don\\'t deserve you\\'\"\\n\\nI tried to scream\\nBut my head was underwater\\nThey called me weak\\nLike I\\'m not just somebody\\'s daughter\\nCoulda been a nightmare\\nBut it felt like they were right there\\nAnd it feels like yesterday was a year ago\\nBut I don\\'t wanna let anybody know\\n\\'Cause everybody wants something from me now\\nAnd I don\\'t wanna let \\'em down\\n\\nI had a dream\\nI got everything I wanted\\nBut when I wake up, I see\\nYou with me\\n\\nAnd you say, \"As long as I\\'m here, no one can hurt you\\nDon\\'t wanna lie here, but you can learn to\\nIf I could change the way that you see yourself\\nYou wouldn\\'t wonder why you hear\\n\\'They don\\'t deserve you\\'\"\\n\\nIf I knew it all then, would I do it again?\\nWould I do it again?\\nIf they knew what they said would go straight to my head\\nWhat would they say instead?\\nIf I knew it all then, would I do it again?\\nWould I do it again?\\nIf they knew what they said would go straight to my head\\nWhat would they say instead?'}]\n"
     ]
    }
   ],
   "source": [
    "# I was unable to get API to work, so I used the backup plan in the instructions of using the Kaggle dataset.  I placed the lyrics for four different songs into individual json files.\n",
    "\n",
    "import json\n",
    " \n",
    "with open('everything.json', 'r') as openfile:\n",
    " \n",
    "    # Reading from json file\n",
    "    json_object = json.load(openfile)\n",
    " \n",
    "print(json_object)"
   ]
  },
  {
   "cell_type": "markdown",
   "metadata": {},
   "source": [
    "### Question 2"
   ]
  },
  {
   "cell_type": "markdown",
   "metadata": {},
   "source": [
    "2. Read in the contents of your file.  Print the lyrics of the song (not the entire dictionary!) and use spaCyTextBlob to perform sentiment analysis on the lyrics.  Print the polarity score of the sentiment analysis.  Given that the range of the polarity score is `[-1.0,1.0]` which corresponds to how positive or negative the text in question is, do you think the lyrics have a more positive or negative connotaion?  Answer this question in a comment in your code cell."
   ]
  },
  {
   "cell_type": "code",
   "execution_count": 27,
   "metadata": {},
   "outputs": [
    {
     "name": "stdout",
     "output_type": "stream",
     "text": [
      "[\n",
      "  {\n",
      "    \"title\": \"Everything I Wanted\",\n",
      "    \"lyrics\": \"I had a dream\\nI got everything I wanted\\nNot what you'd think\\nAnd if I'm bein' honest\\nIt\\u2005might've\\u2005been a nightmare\\nTo\\u2005anyone who might care\\nThought I could\\u2005fly\\nSo I stepped off the Golden, mm\\nNobody cried\\nNobody even noticed\\nI saw them standing right there\\nKinda thought they might care\\n\\nI had a dream\\nI got everything I wanted\\nBut when I wake up, I see\\nYou with me\\n\\nAnd you say, \\\"As long as I'm here, no one can hurt you\\nDon't wanna lie here, but you can learn to\\nIf I could change the way that you see yourself\\nYou wouldn't wonder why you hear\\n'They don't deserve you'\\\"\\n\\nI tried to scream\\nBut my head was underwater\\nThey called me weak\\nLike I'm not just somebody's daughter\\nCoulda been a nightmare\\nBut it felt like they were right there\\nAnd it feels like yesterday was a year ago\\nBut I don't wanna let anybody know\\n'Cause everybody wants something from me now\\nAnd I don't wanna let 'em down\\n\\nI had a dream\\nI got everything I wanted\\nBut when I wake up, I see\\nYou with me\\n\\nAnd you say, \\\"As long as I'm here, no one can hurt you\\nDon't wanna lie here, but you can learn to\\nIf I could change the way that you see yourself\\nYou wouldn't wonder why you hear\\n'They don't deserve you'\\\"\\n\\nIf I knew it all then, would I do it again?\\nWould I do it again?\\nIf they knew what they said would go straight to my head\\nWhat would they say instead?\\nIf I knew it all then, would I do it again?\\nWould I do it again?\\nIf they knew what they said would go straight to my head\\nWhat would they say instead?\"\n",
      "  }\n",
      "]\n"
     ]
    },
    {
     "data": {
      "text/plain": [
       "0.1714285714285714"
      ]
     },
     "execution_count": 27,
     "metadata": {},
     "output_type": "execute_result"
    }
   ],
   "source": [
    "import json\n",
    " \n",
    "with open('everything.json', 'r') as openfile:\n",
    " \n",
    "    # Reading from json file\n",
    "    json_object = json.load(openfile)\n",
    " \n",
    "\n",
    "print(json.dumps(json_object, indent=2))\n",
    "\n",
    "import spacy\n",
    "from spacytextblob.spacytextblob import SpacyTextBlob\n",
    "from pathlib import Path\n",
    "nlp = spacy.load('en_core_web_sm')\n",
    "nlp.add_pipe('spacytextblob')\n",
    "doc = nlp(Path('everything.json').read_text())\n",
    "doc._.blob.polarity \n",
    "\n",
    "# The polarity is slighly positive. That seems right, given the lyrics seem slightly more positive than negative."
   ]
  },
  {
   "cell_type": "markdown",
   "metadata": {},
   "source": [
    "### Question 3"
   ]
  },
  {
   "cell_type": "markdown",
   "metadata": {},
   "source": [
    "3. Write a function that takes an artist, song, and filename, accesses the lyrics.ovh api to get the song lyrics, and writes the results to the specified filename.  Test this function by getting the lyrics to any four songs of your choice and storing them in different files."
   ]
  },
  {
   "cell_type": "markdown",
   "metadata": {},
   "source": [
    "# I wasn't able to get API to work, so I made four separate files using the Kaggle dataset as I said at the beginning of the code to question 1.  Everything.json, no_time.json, ocean.json, secret.json"
   ]
  },
  {
   "cell_type": "markdown",
   "metadata": {},
   "source": [
    "### Question 4"
   ]
  },
  {
   "cell_type": "markdown",
   "metadata": {},
   "source": [
    "4. Write a function that takes the name of a file that contains song lyrics, loads the file, performs sentiment analysis, and returns the polarity score.  Use this function to print the polarity scores (with the name of the song) of the three files you created in question 3.  Does the reported polarity match your understanding of the song's lyrics? Why or why not do you think that might be?  Answer the questions in either a comment in the code cell or a markdown cell under the code cell."
   ]
  },
  {
   "cell_type": "code",
   "execution_count": 24,
   "metadata": {},
   "outputs": [
    {
     "name": "stdout",
     "output_type": "stream",
     "text": [
      "No Time to Die\n"
     ]
    },
    {
     "data": {
      "text/plain": [
       "-0.04166666666666665"
      ]
     },
     "execution_count": 24,
     "metadata": {},
     "output_type": "execute_result"
    }
   ],
   "source": [
    "print('No Time to Die')\n",
    "import spacy\n",
    "from spacytextblob.spacytextblob import SpacyTextBlob\n",
    "from pathlib import Path\n",
    "nlp = spacy.load('en_core_web_sm')\n",
    "nlp.add_pipe('spacytextblob')\n",
    "doc = nlp(Path('no_time.json').read_text())\n",
    "doc._.blob.polarity \n"
   ]
  },
  {
   "cell_type": "code",
   "execution_count": 25,
   "metadata": {},
   "outputs": [
    {
     "name": "stdout",
     "output_type": "stream",
     "text": [
      "Secret\n"
     ]
    },
    {
     "data": {
      "text/plain": [
       "-0.08611111111111112"
      ]
     },
     "execution_count": 25,
     "metadata": {},
     "output_type": "execute_result"
    }
   ],
   "source": [
    "print('Secret')\n",
    "import spacy\n",
    "from spacytextblob.spacytextblob import SpacyTextBlob\n",
    "from pathlib import Path\n",
    "nlp = spacy.load('en_core_web_sm')\n",
    "nlp.add_pipe('spacytextblob')\n",
    "doc = nlp(Path('secret.json').read_text())\n",
    "doc._.blob.polarity "
   ]
  },
  {
   "cell_type": "code",
   "execution_count": 26,
   "metadata": {},
   "outputs": [
    {
     "name": "stdout",
     "output_type": "stream",
     "text": [
      "Ocean Eyes\n"
     ]
    },
    {
     "data": {
      "text/plain": [
       "0.07500000000000001"
      ]
     },
     "execution_count": 26,
     "metadata": {},
     "output_type": "execute_result"
    }
   ],
   "source": [
    "print('Ocean Eyes')\n",
    "import spacy\n",
    "from spacytextblob.spacytextblob import SpacyTextBlob\n",
    "from pathlib import Path\n",
    "nlp = spacy.load('en_core_web_sm')\n",
    "nlp.add_pipe('spacytextblob')\n",
    "doc = nlp(Path('ocean.json').read_text())\n",
    "doc._.blob.polarity "
   ]
  },
  {
   "cell_type": "markdown",
   "metadata": {},
   "source": [
    "## The sentiment scores are all very close to zero.  The lyrics to all three of the songs are very bland, so it makes sense that their polarity is very close to being neutral.  I would have expected No Time to Die (the theme from a James Bond movie) to be more negative, as the lyrics have more of a negative tone than the others."
   ]
  },
  {
   "cell_type": "code",
   "execution_count": null,
   "metadata": {},
   "outputs": [],
   "source": []
  }
 ],
 "metadata": {
  "kernelspec": {
   "display_name": "Python 3 (ipykernel)",
   "language": "python",
   "name": "python3"
  },
  "language_info": {
   "codemirror_mode": {
    "name": "ipython",
    "version": 3
   },
   "file_extension": ".py",
   "mimetype": "text/x-python",
   "name": "python",
   "nbconvert_exporter": "python",
   "pygments_lexer": "ipython3",
   "version": "3.9.7"
  }
 },
 "nbformat": 4,
 "nbformat_minor": 4
}
